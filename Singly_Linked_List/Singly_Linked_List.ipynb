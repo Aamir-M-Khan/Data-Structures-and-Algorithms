{
 "cells": [
  {
   "cell_type": "code",
   "execution_count": 2,
   "metadata": {},
   "outputs": [],
   "source": [
    "class Node:\n",
    "    def __init__(self, data=None, next=None):\n",
    "        self.data = data\n",
    "        self.next = next\n"
   ]
  },
  {
   "cell_type": "code",
   "execution_count": null,
   "metadata": {},
   "outputs": [],
   "source": [
    "class LinkedList:\n",
    "    def __init__(self, head=None):\n",
    "        self.head = head\n",
    "\n",
    "    def append(self, data):\n",
    "        if self.head == None:\n",
    "            return\n",
    "        \n",
    "        sliding_node = self.head\n",
    "        while sliding_node != None:\n",
    "            sliding_node = sliding_node.next\n",
    "\n",
    "        sliding_node.next = Node(data)\n",
    "\n",
    "    def prepend(self, data):\n",
    "        sliding_node = Node(data)\n",
    "        sliding_node.next = self.head\n",
    "        self.head = sliding_node\n",
    "\n",
    "    def is_empty(self):\n",
    "        return self.head == None\n",
    "\n",
    "    def clear(self):\n",
    "        self.head = None\n",
    "\n",
    "    def search(self, value): \n",
    "        sliding_node = self.head\n",
    "        while sliding_node.data:\n",
    "            if sliding_node.data == value:\n",
    "                return sliding_node\n",
    "            sliding_node = sliding_node.next\n",
    "        return None \n",
    "\n",
    "    def size(self):\n",
    "        count = 0\n",
    "        sliding_node = self.head\n",
    "\n",
    "        while sliding_node:\n",
    "            count += 1\n",
    "            sliding_node = sliding_node.next\n",
    "\n",
    "        return count\n",
    "\n"
   ]
  }
 ],
 "metadata": {
  "kernelspec": {
   "display_name": "Python 3",
   "language": "python",
   "name": "python3"
  },
  "language_info": {
   "codemirror_mode": {
    "name": "ipython",
    "version": 3
   },
   "file_extension": ".py",
   "mimetype": "text/x-python",
   "name": "python",
   "nbconvert_exporter": "python",
   "pygments_lexer": "ipython3",
   "version": "3.11.3"
  }
 },
 "nbformat": 4,
 "nbformat_minor": 2
}
